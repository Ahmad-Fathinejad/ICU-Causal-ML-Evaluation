# ICU-Causal-ML-Evaluation: Scenario A Implementation

# ==============================================================================
# REPORT: Time-Series Imputation and Feature Engineering (Scenario A)
# ==============================================================================

"""
## Scenario A: Time-Series Imputation and TSLO Calculation

This module addresses the preliminary data preparation steps required for advanced Deep Learning (DL) models, such as GRU-D, when handling irregular and incomplete clinical time-series data from the ICU.

### Problem Description
We are given an irregularly sampled time series of a patient's Heart Rate (HR) over a 6-hour period. DL models require both imputation for missing values and a feature to capture the irregularity of observations.

**Input Data:**

| Time (Hours) | Heart Rate (beats/min) |
|--------------|------------------------|
| 0.0          | 95                     |
| 1.0          | 98                     |
| 2.5          | 105                    |
| 3.0          | 102                    |
| 4.0          | NA                     |
| 5.0          | 99                     |
| 6.0          | NA                     |

### Tasks:
1.  Fill NA values using the **Last Observation Carried Forward (LOCF)** method.
2.  Calculate **Time Since Last Observation (TSLO)** for the HR at each time point.
3.  Present the final 3-column table: Time, Imputed HR, TSLO.

### Methodological Notes
* **LOCF:** A simple imputation method where a missing value is replaced by the last available observed value. In time-series modeling, this assumes the patient's state remains constant until the next measurement.
* **TSLO:** This feature is crucial for models like GRU-D. It quantifies the duration since a variable was last measured, allowing the model to apply a decay mechanism to the imputed or hidden state, acknowledging that older information is less reliable.
"""

# ==============================================================================
# PYTHON IMPLEMENTATION
# ==============================================================================

import pandas as pd
import numpy as np

# 1. Initialize the data
data = {
    'Time (Hours)': [0.0, 1.0, 2.5, 3.0, 4.0, 5.0, 6.0],
    'Heart Rate (beats/min)': [95, 98, 105, 102, np.nan, 99, np.nan]
}
df = pd.DataFrame(data)

print("--- Initial Data ---")
print(df)
print("-" * 20)


# --- TASK 1: LOCF Imputation ---
# Use pandas' ffill (forward fill) method for LOCF.
df['Imputed HR'] = df['Heart Rate (beats/min)'].fillna(method='ffill')


# --- TASK 2: Calculate TSLO (Time Since Last Observation) ---
# TSLO calculation steps:

# 1. Create a Series of original observation times (for non-NA values)
observed_times = df.loc[df['Heart Rate (beats/min)'].notna(), 'Time (Hours)']

# 2. Reindex this Series to the full DataFrame index and apply ffill.
# For missing points, this carries forward the time of the *last valid observation*.
last_observed_time = observed_times.reindex(df.index).fillna(method='ffill')

# 3. Calculate TSLO as the difference between the current time and the last observed time.
df['TSLO'] = df['Time (Hours)'] - last_observed_time

# 4. TSLO is 0.0 at the first observation point.
df.loc[0, 'TSLO'] = 0.0

# --- TASK 3: Present the final 3-column table ---
final_table = df[['Time (Hours)', 'Imputed HR', 'TSLO']]

print("--- Final Result Table: Time, Imputed HR (LOCF), TSLO ---")
print(final_table.to_markdown(index=False))
print("-" * 20)

# ==============================================================================
# SAVE NUMERICAL RESULTS TO FILE
# ==============================================================================

# Define the output file path within the 'data' directory
output_filepath = 'data/scenario_A_results.csv'

# Save the final table to a CSV file
final_table.to_csv(output_filepath, index=False)

print(f"\n✅ Numerical results successfully saved to: {output_filepath}")

# ==============================================================================
# NUMERICAL RESULTS (for verification)
# ==============================================================================

print("\n--- Final Numerical Result (for verification) ---")
print(final_table)